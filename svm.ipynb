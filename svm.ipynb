{
 "cells": [
  {
   "cell_type": "markdown",
   "id": "54c0c5f3",
   "metadata": {},
   "source": [
    "# Data preprocessing"
   ]
  },
  {
   "cell_type": "code",
   "execution_count": 1,
   "id": "d1bccabe",
   "metadata": {},
   "outputs": [],
   "source": [
    "#import required libraries\n",
    "import numpy as np\n",
    "import pandas as pd\n",
    "import matplotlib.pyplot as plt"
   ]
  },
  {
   "cell_type": "code",
   "execution_count": 2,
   "id": "5aa23626",
   "metadata": {},
   "outputs": [],
   "source": [
    "#load data set\n",
    "data_set = pd.read_csv(\"E:\\\\sign language\\\\sign_mnist_test.csv\")"
   ]
  },
  {
   "cell_type": "code",
   "execution_count": 3,
   "id": "97a09ed8",
   "metadata": {},
   "outputs": [
    {
     "data": {
      "text/html": [
       "<div>\n",
       "<style scoped>\n",
       "    .dataframe tbody tr th:only-of-type {\n",
       "        vertical-align: middle;\n",
       "    }\n",
       "\n",
       "    .dataframe tbody tr th {\n",
       "        vertical-align: top;\n",
       "    }\n",
       "\n",
       "    .dataframe thead th {\n",
       "        text-align: right;\n",
       "    }\n",
       "</style>\n",
       "<table border=\"1\" class=\"dataframe\">\n",
       "  <thead>\n",
       "    <tr style=\"text-align: right;\">\n",
       "      <th></th>\n",
       "      <th>label</th>\n",
       "      <th>pixel1</th>\n",
       "      <th>pixel2</th>\n",
       "      <th>pixel3</th>\n",
       "      <th>pixel4</th>\n",
       "      <th>pixel5</th>\n",
       "      <th>pixel6</th>\n",
       "      <th>pixel7</th>\n",
       "      <th>pixel8</th>\n",
       "      <th>pixel9</th>\n",
       "      <th>...</th>\n",
       "      <th>pixel775</th>\n",
       "      <th>pixel776</th>\n",
       "      <th>pixel777</th>\n",
       "      <th>pixel778</th>\n",
       "      <th>pixel779</th>\n",
       "      <th>pixel780</th>\n",
       "      <th>pixel781</th>\n",
       "      <th>pixel782</th>\n",
       "      <th>pixel783</th>\n",
       "      <th>pixel784</th>\n",
       "    </tr>\n",
       "  </thead>\n",
       "  <tbody>\n",
       "    <tr>\n",
       "      <th>0</th>\n",
       "      <td>6</td>\n",
       "      <td>149</td>\n",
       "      <td>149</td>\n",
       "      <td>150</td>\n",
       "      <td>150</td>\n",
       "      <td>150</td>\n",
       "      <td>151</td>\n",
       "      <td>151</td>\n",
       "      <td>150</td>\n",
       "      <td>151</td>\n",
       "      <td>...</td>\n",
       "      <td>138</td>\n",
       "      <td>148</td>\n",
       "      <td>127</td>\n",
       "      <td>89</td>\n",
       "      <td>82</td>\n",
       "      <td>96</td>\n",
       "      <td>106</td>\n",
       "      <td>112</td>\n",
       "      <td>120</td>\n",
       "      <td>107</td>\n",
       "    </tr>\n",
       "    <tr>\n",
       "      <th>1</th>\n",
       "      <td>5</td>\n",
       "      <td>126</td>\n",
       "      <td>128</td>\n",
       "      <td>131</td>\n",
       "      <td>132</td>\n",
       "      <td>133</td>\n",
       "      <td>134</td>\n",
       "      <td>135</td>\n",
       "      <td>135</td>\n",
       "      <td>136</td>\n",
       "      <td>...</td>\n",
       "      <td>47</td>\n",
       "      <td>104</td>\n",
       "      <td>194</td>\n",
       "      <td>183</td>\n",
       "      <td>186</td>\n",
       "      <td>184</td>\n",
       "      <td>184</td>\n",
       "      <td>184</td>\n",
       "      <td>182</td>\n",
       "      <td>180</td>\n",
       "    </tr>\n",
       "    <tr>\n",
       "      <th>2</th>\n",
       "      <td>10</td>\n",
       "      <td>85</td>\n",
       "      <td>88</td>\n",
       "      <td>92</td>\n",
       "      <td>96</td>\n",
       "      <td>105</td>\n",
       "      <td>123</td>\n",
       "      <td>135</td>\n",
       "      <td>143</td>\n",
       "      <td>147</td>\n",
       "      <td>...</td>\n",
       "      <td>68</td>\n",
       "      <td>166</td>\n",
       "      <td>242</td>\n",
       "      <td>227</td>\n",
       "      <td>230</td>\n",
       "      <td>227</td>\n",
       "      <td>226</td>\n",
       "      <td>225</td>\n",
       "      <td>224</td>\n",
       "      <td>222</td>\n",
       "    </tr>\n",
       "    <tr>\n",
       "      <th>3</th>\n",
       "      <td>0</td>\n",
       "      <td>203</td>\n",
       "      <td>205</td>\n",
       "      <td>207</td>\n",
       "      <td>206</td>\n",
       "      <td>207</td>\n",
       "      <td>209</td>\n",
       "      <td>210</td>\n",
       "      <td>209</td>\n",
       "      <td>210</td>\n",
       "      <td>...</td>\n",
       "      <td>154</td>\n",
       "      <td>248</td>\n",
       "      <td>247</td>\n",
       "      <td>248</td>\n",
       "      <td>253</td>\n",
       "      <td>236</td>\n",
       "      <td>230</td>\n",
       "      <td>240</td>\n",
       "      <td>253</td>\n",
       "      <td>255</td>\n",
       "    </tr>\n",
       "    <tr>\n",
       "      <th>4</th>\n",
       "      <td>3</td>\n",
       "      <td>188</td>\n",
       "      <td>191</td>\n",
       "      <td>193</td>\n",
       "      <td>195</td>\n",
       "      <td>199</td>\n",
       "      <td>201</td>\n",
       "      <td>202</td>\n",
       "      <td>203</td>\n",
       "      <td>203</td>\n",
       "      <td>...</td>\n",
       "      <td>26</td>\n",
       "      <td>40</td>\n",
       "      <td>64</td>\n",
       "      <td>48</td>\n",
       "      <td>29</td>\n",
       "      <td>46</td>\n",
       "      <td>49</td>\n",
       "      <td>46</td>\n",
       "      <td>46</td>\n",
       "      <td>53</td>\n",
       "    </tr>\n",
       "  </tbody>\n",
       "</table>\n",
       "<p>5 rows × 785 columns</p>\n",
       "</div>"
      ],
      "text/plain": [
       "   label  pixel1  pixel2  pixel3  pixel4  pixel5  pixel6  pixel7  pixel8  \\\n",
       "0      6     149     149     150     150     150     151     151     150   \n",
       "1      5     126     128     131     132     133     134     135     135   \n",
       "2     10      85      88      92      96     105     123     135     143   \n",
       "3      0     203     205     207     206     207     209     210     209   \n",
       "4      3     188     191     193     195     199     201     202     203   \n",
       "\n",
       "   pixel9  ...  pixel775  pixel776  pixel777  pixel778  pixel779  pixel780  \\\n",
       "0     151  ...       138       148       127        89        82        96   \n",
       "1     136  ...        47       104       194       183       186       184   \n",
       "2     147  ...        68       166       242       227       230       227   \n",
       "3     210  ...       154       248       247       248       253       236   \n",
       "4     203  ...        26        40        64        48        29        46   \n",
       "\n",
       "   pixel781  pixel782  pixel783  pixel784  \n",
       "0       106       112       120       107  \n",
       "1       184       184       182       180  \n",
       "2       226       225       224       222  \n",
       "3       230       240       253       255  \n",
       "4        49        46        46        53  \n",
       "\n",
       "[5 rows x 785 columns]"
      ]
     },
     "execution_count": 3,
     "metadata": {},
     "output_type": "execute_result"
    }
   ],
   "source": [
    "data_set.head()"
   ]
  },
  {
   "cell_type": "code",
   "execution_count": 23,
   "id": "44ac56cd",
   "metadata": {},
   "outputs": [],
   "source": [
    "#seperating dependent and independent variables\n",
    "x = data_set.iloc[:,1:].values\n",
    "y = data_set.iloc[:,0].values"
   ]
  },
  {
   "cell_type": "code",
   "execution_count": 28,
   "id": "e1825290",
   "metadata": {},
   "outputs": [
    {
     "data": {
      "text/plain": [
       "(7172, 784)"
      ]
     },
     "execution_count": 28,
     "metadata": {},
     "output_type": "execute_result"
    }
   ],
   "source": [
    "x.shape"
   ]
  },
  {
   "cell_type": "code",
   "execution_count": 29,
   "id": "632ad051",
   "metadata": {},
   "outputs": [
    {
     "data": {
      "text/plain": [
       "(7172,)"
      ]
     },
     "execution_count": 29,
     "metadata": {},
     "output_type": "execute_result"
    }
   ],
   "source": [
    "y.shape"
   ]
  },
  {
   "cell_type": "code",
   "execution_count": 27,
   "id": "71a3cad8",
   "metadata": {},
   "outputs": [
    {
     "data": {
      "text/plain": [
       "array([[149, 149, 150, ..., 112, 120, 107],\n",
       "       [126, 128, 131, ..., 184, 182, 180],\n",
       "       [ 85,  88,  92, ..., 225, 224, 222],\n",
       "       ...,\n",
       "       [190, 191, 190, ..., 211, 209, 208],\n",
       "       [201, 205, 208, ...,  67,  70,  63],\n",
       "       [173, 174, 173, ..., 195, 193, 192]], dtype=int64)"
      ]
     },
     "execution_count": 27,
     "metadata": {},
     "output_type": "execute_result"
    }
   ],
   "source": [
    "x"
   ]
  },
  {
   "cell_type": "code",
   "execution_count": 30,
   "id": "f5400b6f",
   "metadata": {},
   "outputs": [
    {
     "data": {
      "text/plain": [
       "array([ 6,  5, 10, ...,  2,  4,  2], dtype=int64)"
      ]
     },
     "execution_count": 30,
     "metadata": {},
     "output_type": "execute_result"
    }
   ],
   "source": [
    "y"
   ]
  },
  {
   "cell_type": "code",
   "execution_count": 31,
   "id": "95b56641",
   "metadata": {},
   "outputs": [],
   "source": [
    "# split the dataset into train and test \n",
    "from sklearn.model_selection import train_test_split\n",
    "x_train,x_test,y_train,y_test = train_test_split(x,y,test_size = 0.25,random_state = 0)"
   ]
  },
  {
   "cell_type": "code",
   "execution_count": 32,
   "id": "51d490e5",
   "metadata": {},
   "outputs": [
    {
     "data": {
      "text/plain": [
       "array([[110, 120, 127, ...,  38,  71,  54],\n",
       "       [ 86,  95, 109, ..., 192, 193, 193],\n",
       "       [146, 146, 146, ..., 174, 172, 172],\n",
       "       ...,\n",
       "       [118, 120, 124, ...,  29,  50,  35],\n",
       "       [139, 142, 144, ..., 176, 173, 166],\n",
       "       [186, 186, 187, ..., 211, 209, 202]], dtype=int64)"
      ]
     },
     "execution_count": 32,
     "metadata": {},
     "output_type": "execute_result"
    }
   ],
   "source": [
    "x_train"
   ]
  },
  {
   "cell_type": "code",
   "execution_count": 33,
   "id": "942900c2",
   "metadata": {},
   "outputs": [
    {
     "data": {
      "text/plain": [
       "(5379, 784)"
      ]
     },
     "execution_count": 33,
     "metadata": {},
     "output_type": "execute_result"
    }
   ],
   "source": [
    "x_train.shape"
   ]
  },
  {
   "cell_type": "code",
   "execution_count": 34,
   "id": "b5bccc63",
   "metadata": {},
   "outputs": [
    {
     "data": {
      "text/plain": [
       "(1793, 784)"
      ]
     },
     "execution_count": 34,
     "metadata": {},
     "output_type": "execute_result"
    }
   ],
   "source": [
    "x_test.shape"
   ]
  },
  {
   "cell_type": "code",
   "execution_count": 39,
   "id": "559d3773",
   "metadata": {},
   "outputs": [],
   "source": [
    "# feature scaling\n",
    "from sklearn.preprocessing import StandardScaler\n",
    "st_x = StandardScaler()\n",
    "x_train = st_x.fit_transform(x_train)\n",
    "x_test = st_x.fit_transform(x_test)"
   ]
  },
  {
   "cell_type": "code",
   "execution_count": 40,
   "id": "889d046a",
   "metadata": {},
   "outputs": [
    {
     "data": {
      "text/plain": [
       "array([[-0.84449726, -0.70670112, -0.6314699 , ..., -1.81031704,\n",
       "        -1.26961276, -1.46611515],\n",
       "       [-1.39527916, -1.30261294, -1.07629397, ...,  0.5286022 ,\n",
       "         0.55044565,  0.57126221],\n",
       "       [-0.01832441, -0.08695283, -0.16193338, ...,  0.25522203,\n",
       "         0.23715691,  0.263457  ],\n",
       "       ...,\n",
       "       [-0.66090329, -0.70670112, -0.70560724, ..., -1.94700713,\n",
       "        -1.5829015 , -1.74460557],\n",
       "       [-0.17896913, -0.18229872, -0.21135828, ...,  0.2855976 ,\n",
       "         0.25207542,  0.17551265],\n",
       "       [ 0.89964542,  0.86650608,  0.851277  , ...,  0.81717015,\n",
       "         0.78914183,  0.70317873]])"
      ]
     },
     "execution_count": 40,
     "metadata": {},
     "output_type": "execute_result"
    }
   ],
   "source": [
    "x_train"
   ]
  },
  {
   "cell_type": "markdown",
   "id": "1dccc6de",
   "metadata": {},
   "source": [
    "# Fitting the SVM classifier to the training dataset"
   ]
  },
  {
   "cell_type": "code",
   "execution_count": 42,
   "id": "3aef5a61",
   "metadata": {},
   "outputs": [
    {
     "data": {
      "text/plain": [
       "SVC(kernel='sigmoid', random_state=0)"
      ]
     },
     "execution_count": 42,
     "metadata": {},
     "output_type": "execute_result"
    }
   ],
   "source": [
    "from sklearn.svm import SVC # support vector classifier\n",
    "classifier = SVC(kernel = 'sigmoid',random_state = 0)\n",
    "classifier.fit(x_train,y_train)"
   ]
  },
  {
   "cell_type": "code",
   "execution_count": 43,
   "id": "e0de1dca",
   "metadata": {},
   "outputs": [],
   "source": [
    "# Predict the test set result\n",
    "y_pred = classifier.predict(x_test)"
   ]
  },
  {
   "cell_type": "code",
   "execution_count": 44,
   "id": "8a5b17ea",
   "metadata": {},
   "outputs": [
    {
     "data": {
      "text/plain": [
       "array([13,  6, 15, ..., 23,  0, 14], dtype=int64)"
      ]
     },
     "execution_count": 44,
     "metadata": {},
     "output_type": "execute_result"
    }
   ],
   "source": [
    "y_pred"
   ]
  },
  {
   "cell_type": "code",
   "execution_count": 45,
   "id": "b85d404a",
   "metadata": {},
   "outputs": [
    {
     "data": {
      "text/plain": [
       "array([13,  6, 19, ..., 23,  0,  5], dtype=int64)"
      ]
     },
     "execution_count": 45,
     "metadata": {},
     "output_type": "execute_result"
    }
   ],
   "source": [
    "y_test"
   ]
  },
  {
   "cell_type": "code",
   "execution_count": 53,
   "id": "464b36bd",
   "metadata": {},
   "outputs": [],
   "source": [
    "# creating the confusion matrix\n",
    "from sklearn.metrics import confusion_matrix \n",
    "cm = confusion_matrix(y_test,y_pred)"
   ]
  },
  {
   "cell_type": "code",
   "execution_count": 56,
   "id": "4010459f",
   "metadata": {},
   "outputs": [
    {
     "data": {
      "text/plain": [
       "array([[84,  0,  0,  0,  1,  0,  0,  0,  0,  0,  0,  0,  0,  0,  1,  2,\n",
       "         0,  0,  0,  0,  0,  1,  0,  0],\n",
       "       [ 0, 69,  1,  2,  0,  0,  0,  0,  0,  4,  0,  0,  0,  0, 16,  2,\n",
       "         0,  0,  0,  0,  0,  0,  6,  1],\n",
       "       [ 0,  0, 70,  0,  1,  0,  0,  0,  0,  0,  0,  0,  0,  6,  3,  1,\n",
       "         0,  0,  0,  0,  0,  0,  7,  0],\n",
       "       [ 0,  8,  0, 24,  0,  0,  0,  0,  0,  1,  0,  0,  0,  0,  8,  0,\n",
       "         0,  0,  1,  6,  2,  0, 11,  4],\n",
       "       [ 2,  0,  1,  0, 88,  0,  1,  0,  0,  0,  0,  4,  4,  0,  5,  1,\n",
       "         0,  0,  0,  0,  0,  0,  7,  0],\n",
       "       [ 0,  2,  3,  0,  0, 30,  0,  1,  0, 15,  0,  0,  0,  4,  4,  0,\n",
       "         0,  0,  0,  0,  0,  0,  4,  1],\n",
       "       [ 0,  0,  0,  4,  0,  2, 35, 21,  1,  4,  0,  1,  0,  0,  5,  6,\n",
       "         0,  0,  2,  0,  0,  0,  0,  0],\n",
       "       [ 0,  0,  0,  1,  0,  0, 28, 69,  0,  1,  1,  0,  1,  0, 11,  6,\n",
       "         0,  0,  1,  0,  0,  3,  3,  1],\n",
       "       [ 0,  0,  0,  2,  0,  0,  0,  0, 37,  4,  0,  1,  1,  0,  9,  2,\n",
       "         0,  1,  0,  1,  0,  3, 14,  0],\n",
       "       [ 0,  1,  0,  0,  0,  2,  0,  0,  0, 37,  0,  0,  0,  0,  7,  0,\n",
       "         0,  0,  0,  0,  3,  1,  8,  6],\n",
       "       [ 0,  0,  3,  0,  0,  0,  2,  0,  0,  1, 25,  0,  0,  0,  9,  0,\n",
       "         0,  0,  0,  0,  0,  0,  4,  0],\n",
       "       [ 2,  0,  0,  0,  8,  0,  0,  0,  0,  0,  0, 67,  2,  0,  9,  7,\n",
       "         0,  0,  0,  0,  0,  3, 13,  0],\n",
       "       [ 4,  0,  3,  0,  2,  0,  0,  0,  0,  1,  0,  2, 31,  2,  5,  9,\n",
       "         0,  2,  0,  0,  0,  0,  1,  0],\n",
       "       [ 0,  0,  8,  0,  2,  0,  4,  1,  0,  0,  0,  0,  4, 37,  4,  1,\n",
       "         0,  1,  0,  0,  0,  0,  3,  0],\n",
       "       [ 0,  0,  0,  0,  0,  0,  0,  0,  0,  0,  0,  0,  0,  0, 59,  7,\n",
       "         0,  0,  0,  0,  0,  2, 14,  0],\n",
       "       [ 0,  0,  0,  0,  0,  0,  0,  2,  0,  0,  0,  0,  2,  0,  2, 22,\n",
       "         0,  0,  0,  0,  0,  0,  6,  0],\n",
       "       [ 0,  5,  0,  0,  0,  0,  0,  0,  0,  9,  0,  0,  0,  0,  4,  0,\n",
       "         5,  0,  0,  1,  0,  1, 11,  0],\n",
       "       [ 0,  0,  0,  0,  1,  0,  0,  0,  2,  2,  0,  1,  6,  0,  5,  8,\n",
       "         0, 25,  0,  0,  0,  3,  5,  2],\n",
       "       [ 0,  0,  1,  0,  0,  0,  2,  0,  0,  4,  0,  0,  0,  0,  9,  1,\n",
       "         0,  0, 29,  0,  0,  1, 13,  0],\n",
       "       [ 0,  3,  0,  0,  0,  0,  0,  0,  0,  6,  0,  0,  0,  0, 11,  1,\n",
       "         2,  0,  0, 19,  2,  6, 10,  0],\n",
       "       [ 0,  1,  0,  0,  0,  1,  0,  0,  0, 28,  0,  0,  0,  0,  5,  2,\n",
       "         2,  0,  0,  1, 25,  7, 17,  0],\n",
       "       [ 0,  2,  0,  0,  0,  0,  0,  0,  1, 19,  0,  0,  0,  0,  7,  0,\n",
       "         0,  0,  0,  3,  1,  8, 13,  2],\n",
       "       [ 0,  0,  3,  2,  0,  0,  1,  0,  1,  7,  1,  0,  0,  0, 10,  9,\n",
       "         1,  0,  2,  0,  0,  3, 34,  0],\n",
       "       [ 0,  0,  0,  2,  0,  0,  0,  0,  0, 17,  0,  0,  0,  0, 10, 10,\n",
       "         0,  1,  0,  1,  3,  1,  9, 39]], dtype=int64)"
      ]
     },
     "execution_count": 56,
     "metadata": {},
     "output_type": "execute_result"
    }
   ],
   "source": [
    "cm"
   ]
  },
  {
   "cell_type": "code",
   "execution_count": null,
   "id": "68a54ae1",
   "metadata": {},
   "outputs": [],
   "source": []
  }
 ],
 "metadata": {
  "kernelspec": {
   "display_name": "Python 3 (ipykernel)",
   "language": "python",
   "name": "python3"
  },
  "language_info": {
   "codemirror_mode": {
    "name": "ipython",
    "version": 3
   },
   "file_extension": ".py",
   "mimetype": "text/x-python",
   "name": "python",
   "nbconvert_exporter": "python",
   "pygments_lexer": "ipython3",
   "version": "3.8.10"
  }
 },
 "nbformat": 4,
 "nbformat_minor": 5
}
